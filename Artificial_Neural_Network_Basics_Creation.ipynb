{
  "nbformat": 4,
  "nbformat_minor": 0,
  "metadata": {
    "colab": {
      "name": "Artificial Neural Network - Basics Creation ",
      "provenance": [],
      "collapsed_sections": []
    },
    "kernelspec": {
      "name": "python3",
      "display_name": "Python 3"
    },
    "language_info": {
      "name": "python"
    }
  },
  "cells": [
    {
      "cell_type": "code",
      "execution_count": 1,
      "metadata": {
        "id": "Xn5jfa89twkx"
      },
      "outputs": [],
      "source": [
        "# Importing the libraries:\n",
        "import numpy as np\n",
        "import matplotlib.pyplot as plt\n",
        "import pandas as pd\n",
        "%matplotlib inline "
      ]
    },
    {
      "cell_type": "code",
      "source": [
        "# Importing the dataset:\n",
        "dataset = pd.read_csv(\"/Churn_Modelling.csv\")\n",
        "dataset.head()"
      ],
      "metadata": {
        "colab": {
          "base_uri": "https://localhost:8080/",
          "height": 270
        },
        "id": "jem4AqGvA2Vv",
        "outputId": "1cf1afb0-ef96-488c-cc1e-d31b0313a86b"
      },
      "execution_count": 4,
      "outputs": [
        {
          "output_type": "execute_result",
          "data": {
            "text/html": [
              "\n",
              "  <div id=\"df-5530678b-ba32-46b9-93a8-24f6fac71e75\">\n",
              "    <div class=\"colab-df-container\">\n",
              "      <div>\n",
              "<style scoped>\n",
              "    .dataframe tbody tr th:only-of-type {\n",
              "        vertical-align: middle;\n",
              "    }\n",
              "\n",
              "    .dataframe tbody tr th {\n",
              "        vertical-align: top;\n",
              "    }\n",
              "\n",
              "    .dataframe thead th {\n",
              "        text-align: right;\n",
              "    }\n",
              "</style>\n",
              "<table border=\"1\" class=\"dataframe\">\n",
              "  <thead>\n",
              "    <tr style=\"text-align: right;\">\n",
              "      <th></th>\n",
              "      <th>RowNumber</th>\n",
              "      <th>CustomerId</th>\n",
              "      <th>Surname</th>\n",
              "      <th>CreditScore</th>\n",
              "      <th>Geography</th>\n",
              "      <th>Gender</th>\n",
              "      <th>Age</th>\n",
              "      <th>Tenure</th>\n",
              "      <th>Balance</th>\n",
              "      <th>NumOfProducts</th>\n",
              "      <th>HasCrCard</th>\n",
              "      <th>IsActiveMember</th>\n",
              "      <th>EstimatedSalary</th>\n",
              "      <th>Exited</th>\n",
              "    </tr>\n",
              "  </thead>\n",
              "  <tbody>\n",
              "    <tr>\n",
              "      <th>0</th>\n",
              "      <td>1</td>\n",
              "      <td>15634602</td>\n",
              "      <td>Hargrave</td>\n",
              "      <td>619</td>\n",
              "      <td>France</td>\n",
              "      <td>Female</td>\n",
              "      <td>42</td>\n",
              "      <td>2</td>\n",
              "      <td>0.00</td>\n",
              "      <td>1</td>\n",
              "      <td>1</td>\n",
              "      <td>1</td>\n",
              "      <td>101348.88</td>\n",
              "      <td>1</td>\n",
              "    </tr>\n",
              "    <tr>\n",
              "      <th>1</th>\n",
              "      <td>2</td>\n",
              "      <td>15647311</td>\n",
              "      <td>Hill</td>\n",
              "      <td>608</td>\n",
              "      <td>Spain</td>\n",
              "      <td>Female</td>\n",
              "      <td>41</td>\n",
              "      <td>1</td>\n",
              "      <td>83807.86</td>\n",
              "      <td>1</td>\n",
              "      <td>0</td>\n",
              "      <td>1</td>\n",
              "      <td>112542.58</td>\n",
              "      <td>0</td>\n",
              "    </tr>\n",
              "    <tr>\n",
              "      <th>2</th>\n",
              "      <td>3</td>\n",
              "      <td>15619304</td>\n",
              "      <td>Onio</td>\n",
              "      <td>502</td>\n",
              "      <td>France</td>\n",
              "      <td>Female</td>\n",
              "      <td>42</td>\n",
              "      <td>8</td>\n",
              "      <td>159660.80</td>\n",
              "      <td>3</td>\n",
              "      <td>1</td>\n",
              "      <td>0</td>\n",
              "      <td>113931.57</td>\n",
              "      <td>1</td>\n",
              "    </tr>\n",
              "    <tr>\n",
              "      <th>3</th>\n",
              "      <td>4</td>\n",
              "      <td>15701354</td>\n",
              "      <td>Boni</td>\n",
              "      <td>699</td>\n",
              "      <td>France</td>\n",
              "      <td>Female</td>\n",
              "      <td>39</td>\n",
              "      <td>1</td>\n",
              "      <td>0.00</td>\n",
              "      <td>2</td>\n",
              "      <td>0</td>\n",
              "      <td>0</td>\n",
              "      <td>93826.63</td>\n",
              "      <td>0</td>\n",
              "    </tr>\n",
              "    <tr>\n",
              "      <th>4</th>\n",
              "      <td>5</td>\n",
              "      <td>15737888</td>\n",
              "      <td>Mitchell</td>\n",
              "      <td>850</td>\n",
              "      <td>Spain</td>\n",
              "      <td>Female</td>\n",
              "      <td>43</td>\n",
              "      <td>2</td>\n",
              "      <td>125510.82</td>\n",
              "      <td>1</td>\n",
              "      <td>1</td>\n",
              "      <td>1</td>\n",
              "      <td>79084.10</td>\n",
              "      <td>0</td>\n",
              "    </tr>\n",
              "  </tbody>\n",
              "</table>\n",
              "</div>\n",
              "      <button class=\"colab-df-convert\" onclick=\"convertToInteractive('df-5530678b-ba32-46b9-93a8-24f6fac71e75')\"\n",
              "              title=\"Convert this dataframe to an interactive table.\"\n",
              "              style=\"display:none;\">\n",
              "        \n",
              "  <svg xmlns=\"http://www.w3.org/2000/svg\" height=\"24px\"viewBox=\"0 0 24 24\"\n",
              "       width=\"24px\">\n",
              "    <path d=\"M0 0h24v24H0V0z\" fill=\"none\"/>\n",
              "    <path d=\"M18.56 5.44l.94 2.06.94-2.06 2.06-.94-2.06-.94-.94-2.06-.94 2.06-2.06.94zm-11 1L8.5 8.5l.94-2.06 2.06-.94-2.06-.94L8.5 2.5l-.94 2.06-2.06.94zm10 10l.94 2.06.94-2.06 2.06-.94-2.06-.94-.94-2.06-.94 2.06-2.06.94z\"/><path d=\"M17.41 7.96l-1.37-1.37c-.4-.4-.92-.59-1.43-.59-.52 0-1.04.2-1.43.59L10.3 9.45l-7.72 7.72c-.78.78-.78 2.05 0 2.83L4 21.41c.39.39.9.59 1.41.59.51 0 1.02-.2 1.41-.59l7.78-7.78 2.81-2.81c.8-.78.8-2.07 0-2.86zM5.41 20L4 18.59l7.72-7.72 1.47 1.35L5.41 20z\"/>\n",
              "  </svg>\n",
              "      </button>\n",
              "      \n",
              "  <style>\n",
              "    .colab-df-container {\n",
              "      display:flex;\n",
              "      flex-wrap:wrap;\n",
              "      gap: 12px;\n",
              "    }\n",
              "\n",
              "    .colab-df-convert {\n",
              "      background-color: #E8F0FE;\n",
              "      border: none;\n",
              "      border-radius: 50%;\n",
              "      cursor: pointer;\n",
              "      display: none;\n",
              "      fill: #1967D2;\n",
              "      height: 32px;\n",
              "      padding: 0 0 0 0;\n",
              "      width: 32px;\n",
              "    }\n",
              "\n",
              "    .colab-df-convert:hover {\n",
              "      background-color: #E2EBFA;\n",
              "      box-shadow: 0px 1px 2px rgba(60, 64, 67, 0.3), 0px 1px 3px 1px rgba(60, 64, 67, 0.15);\n",
              "      fill: #174EA6;\n",
              "    }\n",
              "\n",
              "    [theme=dark] .colab-df-convert {\n",
              "      background-color: #3B4455;\n",
              "      fill: #D2E3FC;\n",
              "    }\n",
              "\n",
              "    [theme=dark] .colab-df-convert:hover {\n",
              "      background-color: #434B5C;\n",
              "      box-shadow: 0px 1px 3px 1px rgba(0, 0, 0, 0.15);\n",
              "      filter: drop-shadow(0px 1px 2px rgba(0, 0, 0, 0.3));\n",
              "      fill: #FFFFFF;\n",
              "    }\n",
              "  </style>\n",
              "\n",
              "      <script>\n",
              "        const buttonEl =\n",
              "          document.querySelector('#df-5530678b-ba32-46b9-93a8-24f6fac71e75 button.colab-df-convert');\n",
              "        buttonEl.style.display =\n",
              "          google.colab.kernel.accessAllowed ? 'block' : 'none';\n",
              "\n",
              "        async function convertToInteractive(key) {\n",
              "          const element = document.querySelector('#df-5530678b-ba32-46b9-93a8-24f6fac71e75');\n",
              "          const dataTable =\n",
              "            await google.colab.kernel.invokeFunction('convertToInteractive',\n",
              "                                                     [key], {});\n",
              "          if (!dataTable) return;\n",
              "\n",
              "          const docLinkHtml = 'Like what you see? Visit the ' +\n",
              "            '<a target=\"_blank\" href=https://colab.research.google.com/notebooks/data_table.ipynb>data table notebook</a>'\n",
              "            + ' to learn more about interactive tables.';\n",
              "          element.innerHTML = '';\n",
              "          dataTable['output_type'] = 'display_data';\n",
              "          await google.colab.output.renderOutput(dataTable, element);\n",
              "          const docLink = document.createElement('div');\n",
              "          docLink.innerHTML = docLinkHtml;\n",
              "          element.appendChild(docLink);\n",
              "        }\n",
              "      </script>\n",
              "    </div>\n",
              "  </div>\n",
              "  "
            ],
            "text/plain": [
              "   RowNumber  CustomerId   Surname  ...  IsActiveMember EstimatedSalary Exited\n",
              "0          1    15634602  Hargrave  ...               1       101348.88      1\n",
              "1          2    15647311      Hill  ...               1       112542.58      0\n",
              "2          3    15619304      Onio  ...               0       113931.57      1\n",
              "3          4    15701354      Boni  ...               0        93826.63      0\n",
              "4          5    15737888  Mitchell  ...               1        79084.10      0\n",
              "\n",
              "[5 rows x 14 columns]"
            ]
          },
          "metadata": {},
          "execution_count": 4
        }
      ]
    },
    {
      "cell_type": "code",
      "source": [
        "X = dataset.iloc[:,3:13]\n",
        "y = dataset.iloc[:,13]"
      ],
      "metadata": {
        "id": "R4ebzw2vA8By"
      },
      "execution_count": 5,
      "outputs": []
    },
    {
      "cell_type": "code",
      "source": [
        "# Creation of Dummy Variables:\n",
        "geography = pd.get_dummies(X[\"Geography\"], drop_first = True)\n",
        "gender = pd.get_dummies(X[\"Gender\"],drop_first = True)"
      ],
      "metadata": {
        "id": "P7yUis05Bsj-"
      },
      "execution_count": 6,
      "outputs": []
    },
    {
      "cell_type": "code",
      "source": [
        "# Concatenation of the data frames created from original dataset, with the oroginal datasets:\n",
        "X = pd.concat([X,geography,gender],axis = 1)"
      ],
      "metadata": {
        "id": "vxI_9v1pBubU"
      },
      "execution_count": 7,
      "outputs": []
    },
    {
      "cell_type": "code",
      "source": [
        "# Drop the not requeired columns:\n",
        "X = X.drop(['Geography','Gender'], axis = 1) "
      ],
      "metadata": {
        "id": "Swzj0hqABw30"
      },
      "execution_count": 8,
      "outputs": []
    },
    {
      "cell_type": "code",
      "source": [
        "from sklearn.model_selection import train_test_split\n",
        "X_train, X_test, y_train, y_test = train_test_split(X,y, test_size = 0.2, random_state = 0)"
      ],
      "metadata": {
        "id": "3pzJsX87By_S"
      },
      "execution_count": 9,
      "outputs": []
    },
    {
      "cell_type": "code",
      "source": [
        "# Feature Scaling: \n",
        "from sklearn.preprocessing import StandardScaler\n",
        "sc = StandardScaler()\n",
        "X_train = sc.fit_transform(X_train)\n",
        "X_test = sc.transform(X_test)"
      ],
      "metadata": {
        "id": "JEXuSIJxB2S6"
      },
      "execution_count": 10,
      "outputs": []
    },
    {
      "cell_type": "code",
      "source": [
        "## Part 2 - ANN - Creation:\n",
        "import keras\n",
        "from keras.models import Sequential \n",
        "from keras.layers import Dense\n",
        "from keras.layers import LeakyReLU, PReLU, ELU\n",
        "from keras.layers import Dropout"
      ],
      "metadata": {
        "id": "2iu2S7_FB4HH"
      },
      "execution_count": 29,
      "outputs": []
    },
    {
      "cell_type": "code",
      "source": [
        "# Initializing the ANN:\n",
        "classifier = Sequential() # Created an empty Neural Network here.\n",
        "\n",
        "# Adding input layer and the first hidden layer:\n",
        "classifier.add(Dense(units = 10, kernel_initializer = 'he_normal', activation = 'relu',input_dim = 11))\n",
        "classifier.add(Dropout(0.3))\n",
        "# Adding the Second Layer: \n",
        "classifier.add(Dense(units = 20, kernel_initializer = 'he_normal', activation = 'relu'))\n",
        "classifier.add(Dropout(0.4))\n",
        "# Adding the Third Layer: \n",
        "classifier.add(Dense(units = 15, kernel_initializer = 'he_normal', activation = 'relu'))\n",
        "classifier.add(Dropout(0.2))\n",
        "# Adding the output hidden layer: \n",
        "classifier.add(Dense(units = 1, kernel_initializer = 'glorot_uniform', activation = 'sigmoid'))\n"
      ],
      "metadata": {
        "id": "KMQqaQjzB59K"
      },
      "execution_count": 37,
      "outputs": []
    },
    {
      "cell_type": "code",
      "source": [
        "classifier.summary()"
      ],
      "metadata": {
        "colab": {
          "base_uri": "https://localhost:8080/"
        },
        "id": "GA2eQWE7FrfD",
        "outputId": "0021f99d-d7c6-41f8-9b83-f9d45b9d1df1"
      },
      "execution_count": 38,
      "outputs": [
        {
          "output_type": "stream",
          "name": "stdout",
          "text": [
            "Model: \"sequential_3\"\n",
            "_________________________________________________________________\n",
            " Layer (type)                Output Shape              Param #   \n",
            "=================================================================\n",
            " dense_10 (Dense)            (None, 10)                120       \n",
            "                                                                 \n",
            " dropout (Dropout)           (None, 10)                0         \n",
            "                                                                 \n",
            " dense_11 (Dense)            (None, 20)                220       \n",
            "                                                                 \n",
            " dropout_1 (Dropout)         (None, 20)                0         \n",
            "                                                                 \n",
            " dense_12 (Dense)            (None, 15)                315       \n",
            "                                                                 \n",
            " dropout_2 (Dropout)         (None, 15)                0         \n",
            "                                                                 \n",
            " dense_13 (Dense)            (None, 1)                 16        \n",
            "                                                                 \n",
            "=================================================================\n",
            "Total params: 671\n",
            "Trainable params: 671\n",
            "Non-trainable params: 0\n",
            "_________________________________________________________________\n"
          ]
        }
      ]
    },
    {
      "cell_type": "code",
      "source": [
        "# Compiling the ANN:\n",
        "classifier.compile(optimizer = 'adam', loss = 'binary_crossentropy', metrics = ['accuracy'])\n",
        "\n",
        "# Fiting the ANN to the Training Set:\n",
        "model_history = classifier.fit(X_train, y_train,validation_split = 0.33, batch_size = 10, epochs = 100)"
      ],
      "metadata": {
        "colab": {
          "base_uri": "https://localhost:8080/"
        },
        "id": "tdUOWLPcFtq_",
        "outputId": "bd8c4449-4446-4b7a-d61a-a9c76fce5a2a"
      },
      "execution_count": 39,
      "outputs": [
        {
          "output_type": "stream",
          "name": "stdout",
          "text": [
            "Epoch 1/100\n",
            "536/536 [==============================] - 2s 3ms/step - loss: 0.5929 - accuracy: 0.7559 - val_loss: 0.4899 - val_accuracy: 0.7955\n",
            "Epoch 2/100\n",
            "536/536 [==============================] - 1s 2ms/step - loss: 0.5178 - accuracy: 0.7873 - val_loss: 0.4644 - val_accuracy: 0.7955\n",
            "Epoch 3/100\n",
            "536/536 [==============================] - 1s 2ms/step - loss: 0.4847 - accuracy: 0.7966 - val_loss: 0.4453 - val_accuracy: 0.7963\n",
            "Epoch 4/100\n",
            "536/536 [==============================] - 1s 2ms/step - loss: 0.4717 - accuracy: 0.7960 - val_loss: 0.4420 - val_accuracy: 0.7963\n",
            "Epoch 5/100\n",
            "536/536 [==============================] - 1s 2ms/step - loss: 0.4631 - accuracy: 0.7994 - val_loss: 0.4356 - val_accuracy: 0.7967\n",
            "Epoch 6/100\n",
            "536/536 [==============================] - 1s 2ms/step - loss: 0.4579 - accuracy: 0.8011 - val_loss: 0.4302 - val_accuracy: 0.8080\n",
            "Epoch 7/100\n",
            "536/536 [==============================] - 1s 3ms/step - loss: 0.4447 - accuracy: 0.8069 - val_loss: 0.4252 - val_accuracy: 0.8092\n",
            "Epoch 8/100\n",
            "536/536 [==============================] - 1s 2ms/step - loss: 0.4442 - accuracy: 0.8102 - val_loss: 0.4231 - val_accuracy: 0.8141\n",
            "Epoch 9/100\n",
            "536/536 [==============================] - 1s 3ms/step - loss: 0.4410 - accuracy: 0.8113 - val_loss: 0.4160 - val_accuracy: 0.8213\n",
            "Epoch 10/100\n",
            "536/536 [==============================] - 1s 2ms/step - loss: 0.4252 - accuracy: 0.8194 - val_loss: 0.4069 - val_accuracy: 0.8285\n",
            "Epoch 11/100\n",
            "536/536 [==============================] - 1s 2ms/step - loss: 0.4233 - accuracy: 0.8153 - val_loss: 0.4026 - val_accuracy: 0.8300\n",
            "Epoch 12/100\n",
            "536/536 [==============================] - 1s 2ms/step - loss: 0.4179 - accuracy: 0.8237 - val_loss: 0.4064 - val_accuracy: 0.8319\n",
            "Epoch 13/100\n",
            "536/536 [==============================] - 1s 2ms/step - loss: 0.4135 - accuracy: 0.8203 - val_loss: 0.3964 - val_accuracy: 0.8232\n",
            "Epoch 14/100\n",
            "536/536 [==============================] - 1s 3ms/step - loss: 0.4072 - accuracy: 0.8298 - val_loss: 0.3887 - val_accuracy: 0.8304\n",
            "Epoch 15/100\n",
            "536/536 [==============================] - 1s 2ms/step - loss: 0.4025 - accuracy: 0.8287 - val_loss: 0.3927 - val_accuracy: 0.8300\n",
            "Epoch 16/100\n",
            "536/536 [==============================] - 1s 2ms/step - loss: 0.3989 - accuracy: 0.8302 - val_loss: 0.3861 - val_accuracy: 0.8342\n",
            "Epoch 17/100\n",
            "536/536 [==============================] - 1s 3ms/step - loss: 0.3979 - accuracy: 0.8356 - val_loss: 0.3825 - val_accuracy: 0.8357\n",
            "Epoch 18/100\n",
            "536/536 [==============================] - 1s 3ms/step - loss: 0.4026 - accuracy: 0.8315 - val_loss: 0.3901 - val_accuracy: 0.8342\n",
            "Epoch 19/100\n",
            "536/536 [==============================] - 2s 3ms/step - loss: 0.3920 - accuracy: 0.8339 - val_loss: 0.3805 - val_accuracy: 0.8398\n",
            "Epoch 20/100\n",
            "536/536 [==============================] - 2s 3ms/step - loss: 0.3905 - accuracy: 0.8373 - val_loss: 0.3783 - val_accuracy: 0.8406\n",
            "Epoch 21/100\n",
            "536/536 [==============================] - 1s 3ms/step - loss: 0.3874 - accuracy: 0.8365 - val_loss: 0.3783 - val_accuracy: 0.8364\n",
            "Epoch 22/100\n",
            "536/536 [==============================] - 1s 2ms/step - loss: 0.3882 - accuracy: 0.8397 - val_loss: 0.3779 - val_accuracy: 0.8376\n",
            "Epoch 23/100\n",
            "536/536 [==============================] - 1s 3ms/step - loss: 0.3842 - accuracy: 0.8390 - val_loss: 0.3782 - val_accuracy: 0.8387\n",
            "Epoch 24/100\n",
            "536/536 [==============================] - 1s 3ms/step - loss: 0.3885 - accuracy: 0.8397 - val_loss: 0.3781 - val_accuracy: 0.8349\n",
            "Epoch 25/100\n",
            "536/536 [==============================] - 1s 2ms/step - loss: 0.3858 - accuracy: 0.8397 - val_loss: 0.3754 - val_accuracy: 0.8429\n",
            "Epoch 26/100\n",
            "536/536 [==============================] - 1s 2ms/step - loss: 0.3794 - accuracy: 0.8378 - val_loss: 0.3747 - val_accuracy: 0.8410\n",
            "Epoch 27/100\n",
            "536/536 [==============================] - 1s 3ms/step - loss: 0.3807 - accuracy: 0.8408 - val_loss: 0.3745 - val_accuracy: 0.8417\n",
            "Epoch 28/100\n",
            "536/536 [==============================] - 1s 3ms/step - loss: 0.3800 - accuracy: 0.8434 - val_loss: 0.3749 - val_accuracy: 0.8413\n",
            "Epoch 29/100\n",
            "536/536 [==============================] - 1s 3ms/step - loss: 0.3793 - accuracy: 0.8367 - val_loss: 0.3740 - val_accuracy: 0.8410\n",
            "Epoch 30/100\n",
            "536/536 [==============================] - 1s 3ms/step - loss: 0.3714 - accuracy: 0.8464 - val_loss: 0.3744 - val_accuracy: 0.8451\n",
            "Epoch 31/100\n",
            "536/536 [==============================] - 1s 3ms/step - loss: 0.3744 - accuracy: 0.8421 - val_loss: 0.3747 - val_accuracy: 0.8345\n",
            "Epoch 32/100\n",
            "536/536 [==============================] - 1s 3ms/step - loss: 0.3774 - accuracy: 0.8433 - val_loss: 0.3740 - val_accuracy: 0.8444\n",
            "Epoch 33/100\n",
            "536/536 [==============================] - 1s 2ms/step - loss: 0.3757 - accuracy: 0.8388 - val_loss: 0.3775 - val_accuracy: 0.8379\n",
            "Epoch 34/100\n",
            "536/536 [==============================] - 1s 2ms/step - loss: 0.3822 - accuracy: 0.8410 - val_loss: 0.3783 - val_accuracy: 0.8383\n",
            "Epoch 35/100\n",
            "536/536 [==============================] - 1s 3ms/step - loss: 0.3723 - accuracy: 0.8440 - val_loss: 0.3704 - val_accuracy: 0.8466\n",
            "Epoch 36/100\n",
            "536/536 [==============================] - 1s 2ms/step - loss: 0.3753 - accuracy: 0.8395 - val_loss: 0.3709 - val_accuracy: 0.8482\n",
            "Epoch 37/100\n",
            "536/536 [==============================] - 1s 3ms/step - loss: 0.3796 - accuracy: 0.8410 - val_loss: 0.3741 - val_accuracy: 0.8470\n",
            "Epoch 38/100\n",
            "536/536 [==============================] - 2s 3ms/step - loss: 0.3769 - accuracy: 0.8406 - val_loss: 0.3706 - val_accuracy: 0.8497\n",
            "Epoch 39/100\n",
            "536/536 [==============================] - 1s 3ms/step - loss: 0.3731 - accuracy: 0.8408 - val_loss: 0.3697 - val_accuracy: 0.8451\n",
            "Epoch 40/100\n",
            "536/536 [==============================] - 2s 3ms/step - loss: 0.3805 - accuracy: 0.8447 - val_loss: 0.3719 - val_accuracy: 0.8455\n",
            "Epoch 41/100\n",
            "536/536 [==============================] - 2s 3ms/step - loss: 0.3737 - accuracy: 0.8462 - val_loss: 0.3704 - val_accuracy: 0.8413\n",
            "Epoch 42/100\n",
            "536/536 [==============================] - 1s 3ms/step - loss: 0.3740 - accuracy: 0.8395 - val_loss: 0.3716 - val_accuracy: 0.8425\n",
            "Epoch 43/100\n",
            "536/536 [==============================] - 1s 3ms/step - loss: 0.3771 - accuracy: 0.8423 - val_loss: 0.3687 - val_accuracy: 0.8455\n",
            "Epoch 44/100\n",
            "536/536 [==============================] - 1s 3ms/step - loss: 0.3785 - accuracy: 0.8423 - val_loss: 0.3757 - val_accuracy: 0.8448\n",
            "Epoch 45/100\n",
            "536/536 [==============================] - 1s 3ms/step - loss: 0.3666 - accuracy: 0.8451 - val_loss: 0.3656 - val_accuracy: 0.8474\n",
            "Epoch 46/100\n",
            "536/536 [==============================] - 1s 3ms/step - loss: 0.3735 - accuracy: 0.8425 - val_loss: 0.3690 - val_accuracy: 0.8474\n",
            "Epoch 47/100\n",
            "536/536 [==============================] - 1s 3ms/step - loss: 0.3695 - accuracy: 0.8459 - val_loss: 0.3718 - val_accuracy: 0.8425\n",
            "Epoch 48/100\n",
            "536/536 [==============================] - 1s 3ms/step - loss: 0.3731 - accuracy: 0.8427 - val_loss: 0.3720 - val_accuracy: 0.8440\n",
            "Epoch 49/100\n",
            "536/536 [==============================] - 1s 3ms/step - loss: 0.3700 - accuracy: 0.8451 - val_loss: 0.3708 - val_accuracy: 0.8459\n",
            "Epoch 50/100\n",
            "536/536 [==============================] - 1s 3ms/step - loss: 0.3654 - accuracy: 0.8468 - val_loss: 0.3674 - val_accuracy: 0.8451\n",
            "Epoch 51/100\n",
            "536/536 [==============================] - 2s 3ms/step - loss: 0.3637 - accuracy: 0.8517 - val_loss: 0.3692 - val_accuracy: 0.8470\n",
            "Epoch 52/100\n",
            "536/536 [==============================] - 1s 3ms/step - loss: 0.3678 - accuracy: 0.8522 - val_loss: 0.3662 - val_accuracy: 0.8482\n",
            "Epoch 53/100\n",
            "536/536 [==============================] - 1s 3ms/step - loss: 0.3738 - accuracy: 0.8440 - val_loss: 0.3708 - val_accuracy: 0.8482\n",
            "Epoch 54/100\n",
            "536/536 [==============================] - 1s 3ms/step - loss: 0.3722 - accuracy: 0.8457 - val_loss: 0.3673 - val_accuracy: 0.8485\n",
            "Epoch 55/100\n",
            "536/536 [==============================] - 1s 3ms/step - loss: 0.3731 - accuracy: 0.8474 - val_loss: 0.3696 - val_accuracy: 0.8463\n",
            "Epoch 56/100\n",
            "536/536 [==============================] - 2s 3ms/step - loss: 0.3620 - accuracy: 0.8429 - val_loss: 0.3707 - val_accuracy: 0.8466\n",
            "Epoch 57/100\n",
            "536/536 [==============================] - 2s 3ms/step - loss: 0.3725 - accuracy: 0.8434 - val_loss: 0.3705 - val_accuracy: 0.8478\n",
            "Epoch 58/100\n",
            "536/536 [==============================] - 2s 3ms/step - loss: 0.3660 - accuracy: 0.8498 - val_loss: 0.3649 - val_accuracy: 0.8463\n",
            "Epoch 59/100\n",
            "536/536 [==============================] - 2s 3ms/step - loss: 0.3741 - accuracy: 0.8427 - val_loss: 0.3666 - val_accuracy: 0.8459\n",
            "Epoch 60/100\n",
            "536/536 [==============================] - 2s 4ms/step - loss: 0.3671 - accuracy: 0.8455 - val_loss: 0.3698 - val_accuracy: 0.8466\n",
            "Epoch 61/100\n",
            "536/536 [==============================] - 1s 3ms/step - loss: 0.3693 - accuracy: 0.8410 - val_loss: 0.3701 - val_accuracy: 0.8466\n",
            "Epoch 62/100\n",
            "536/536 [==============================] - 1s 3ms/step - loss: 0.3684 - accuracy: 0.8472 - val_loss: 0.3725 - val_accuracy: 0.8489\n",
            "Epoch 63/100\n",
            "536/536 [==============================] - 1s 3ms/step - loss: 0.3709 - accuracy: 0.8433 - val_loss: 0.3692 - val_accuracy: 0.8444\n",
            "Epoch 64/100\n",
            "536/536 [==============================] - 1s 3ms/step - loss: 0.3727 - accuracy: 0.8421 - val_loss: 0.3700 - val_accuracy: 0.8455\n",
            "Epoch 65/100\n",
            "536/536 [==============================] - 1s 3ms/step - loss: 0.3680 - accuracy: 0.8492 - val_loss: 0.3673 - val_accuracy: 0.8478\n",
            "Epoch 66/100\n",
            "536/536 [==============================] - 2s 4ms/step - loss: 0.3643 - accuracy: 0.8470 - val_loss: 0.3668 - val_accuracy: 0.8485\n",
            "Epoch 67/100\n",
            "536/536 [==============================] - 2s 3ms/step - loss: 0.3705 - accuracy: 0.8496 - val_loss: 0.3707 - val_accuracy: 0.8497\n",
            "Epoch 68/100\n",
            "536/536 [==============================] - 1s 2ms/step - loss: 0.3603 - accuracy: 0.8505 - val_loss: 0.3677 - val_accuracy: 0.8470\n",
            "Epoch 69/100\n",
            "536/536 [==============================] - 1s 3ms/step - loss: 0.3751 - accuracy: 0.8459 - val_loss: 0.3699 - val_accuracy: 0.8474\n",
            "Epoch 70/100\n",
            "536/536 [==============================] - 1s 3ms/step - loss: 0.3690 - accuracy: 0.8466 - val_loss: 0.3705 - val_accuracy: 0.8482\n",
            "Epoch 71/100\n",
            "536/536 [==============================] - 1s 3ms/step - loss: 0.3679 - accuracy: 0.8429 - val_loss: 0.3652 - val_accuracy: 0.8497\n",
            "Epoch 72/100\n",
            "536/536 [==============================] - 1s 3ms/step - loss: 0.3744 - accuracy: 0.8442 - val_loss: 0.3722 - val_accuracy: 0.8497\n",
            "Epoch 73/100\n",
            "536/536 [==============================] - 1s 3ms/step - loss: 0.3671 - accuracy: 0.8466 - val_loss: 0.3684 - val_accuracy: 0.8501\n",
            "Epoch 74/100\n",
            "536/536 [==============================] - 2s 3ms/step - loss: 0.3675 - accuracy: 0.8457 - val_loss: 0.3657 - val_accuracy: 0.8504\n",
            "Epoch 75/100\n",
            "536/536 [==============================] - 1s 3ms/step - loss: 0.3718 - accuracy: 0.8462 - val_loss: 0.3679 - val_accuracy: 0.8466\n",
            "Epoch 76/100\n",
            "536/536 [==============================] - 1s 3ms/step - loss: 0.3704 - accuracy: 0.8421 - val_loss: 0.3681 - val_accuracy: 0.8463\n",
            "Epoch 77/100\n",
            "536/536 [==============================] - 1s 3ms/step - loss: 0.3655 - accuracy: 0.8485 - val_loss: 0.3689 - val_accuracy: 0.8489\n",
            "Epoch 78/100\n",
            "536/536 [==============================] - 1s 3ms/step - loss: 0.3685 - accuracy: 0.8507 - val_loss: 0.3625 - val_accuracy: 0.8508\n",
            "Epoch 79/100\n",
            "536/536 [==============================] - 1s 3ms/step - loss: 0.3717 - accuracy: 0.8434 - val_loss: 0.3637 - val_accuracy: 0.8512\n",
            "Epoch 80/100\n",
            "536/536 [==============================] - 1s 3ms/step - loss: 0.3653 - accuracy: 0.8461 - val_loss: 0.3653 - val_accuracy: 0.8497\n",
            "Epoch 81/100\n",
            "536/536 [==============================] - 1s 3ms/step - loss: 0.3743 - accuracy: 0.8414 - val_loss: 0.3678 - val_accuracy: 0.8482\n",
            "Epoch 82/100\n",
            "536/536 [==============================] - 1s 3ms/step - loss: 0.3699 - accuracy: 0.8481 - val_loss: 0.3709 - val_accuracy: 0.8478\n",
            "Epoch 83/100\n",
            "536/536 [==============================] - 1s 3ms/step - loss: 0.3659 - accuracy: 0.8492 - val_loss: 0.3668 - val_accuracy: 0.8466\n",
            "Epoch 84/100\n",
            "536/536 [==============================] - 1s 3ms/step - loss: 0.3644 - accuracy: 0.8472 - val_loss: 0.3723 - val_accuracy: 0.8455\n",
            "Epoch 85/100\n",
            "536/536 [==============================] - 1s 3ms/step - loss: 0.3686 - accuracy: 0.8503 - val_loss: 0.3693 - val_accuracy: 0.8459\n",
            "Epoch 86/100\n",
            "536/536 [==============================] - 1s 3ms/step - loss: 0.3657 - accuracy: 0.8489 - val_loss: 0.3642 - val_accuracy: 0.8474\n",
            "Epoch 87/100\n",
            "536/536 [==============================] - 1s 3ms/step - loss: 0.3740 - accuracy: 0.8440 - val_loss: 0.3691 - val_accuracy: 0.8470\n",
            "Epoch 88/100\n",
            "536/536 [==============================] - 1s 3ms/step - loss: 0.3683 - accuracy: 0.8444 - val_loss: 0.3688 - val_accuracy: 0.8485\n",
            "Epoch 89/100\n",
            "536/536 [==============================] - 1s 3ms/step - loss: 0.3700 - accuracy: 0.8384 - val_loss: 0.3661 - val_accuracy: 0.8466\n",
            "Epoch 90/100\n",
            "536/536 [==============================] - 1s 3ms/step - loss: 0.3658 - accuracy: 0.8502 - val_loss: 0.3634 - val_accuracy: 0.8478\n",
            "Epoch 91/100\n",
            "536/536 [==============================] - 1s 3ms/step - loss: 0.3626 - accuracy: 0.8502 - val_loss: 0.3672 - val_accuracy: 0.8542\n",
            "Epoch 92/100\n",
            "536/536 [==============================] - 1s 3ms/step - loss: 0.3645 - accuracy: 0.8485 - val_loss: 0.3655 - val_accuracy: 0.8459\n",
            "Epoch 93/100\n",
            "536/536 [==============================] - 1s 3ms/step - loss: 0.3639 - accuracy: 0.8446 - val_loss: 0.3622 - val_accuracy: 0.8512\n",
            "Epoch 94/100\n",
            "536/536 [==============================] - 1s 3ms/step - loss: 0.3707 - accuracy: 0.8447 - val_loss: 0.3637 - val_accuracy: 0.8497\n",
            "Epoch 95/100\n",
            "536/536 [==============================] - 1s 3ms/step - loss: 0.3642 - accuracy: 0.8498 - val_loss: 0.3642 - val_accuracy: 0.8519\n",
            "Epoch 96/100\n",
            "536/536 [==============================] - 1s 3ms/step - loss: 0.3616 - accuracy: 0.8449 - val_loss: 0.3634 - val_accuracy: 0.8459\n",
            "Epoch 97/100\n",
            "536/536 [==============================] - 1s 3ms/step - loss: 0.3700 - accuracy: 0.8475 - val_loss: 0.3654 - val_accuracy: 0.8504\n",
            "Epoch 98/100\n",
            "536/536 [==============================] - 1s 2ms/step - loss: 0.3641 - accuracy: 0.8475 - val_loss: 0.3697 - val_accuracy: 0.8516\n",
            "Epoch 99/100\n",
            "536/536 [==============================] - 1s 3ms/step - loss: 0.3622 - accuracy: 0.8457 - val_loss: 0.3649 - val_accuracy: 0.8501\n",
            "Epoch 100/100\n",
            "536/536 [==============================] - 1s 3ms/step - loss: 0.3666 - accuracy: 0.8475 - val_loss: 0.3657 - val_accuracy: 0.8501\n"
          ]
        }
      ]
    },
    {
      "cell_type": "code",
      "source": [
        "# Predicting the Test Set Results:\n",
        "y_pred = classifier.predict(X_test)\n",
        "y_pred = (y_pred > 0.5)"
      ],
      "metadata": {
        "id": "Lt81dmk1P-cW"
      },
      "execution_count": 40,
      "outputs": []
    },
    {
      "cell_type": "code",
      "source": [
        "# Making the Confusion Matrix: \n",
        "from sklearn.metrics import confusion_matrix\n",
        "cm = confusion_matrix(y_test, y_pred)"
      ],
      "metadata": {
        "id": "_7rC0-FOP1Aq"
      },
      "execution_count": 41,
      "outputs": []
    },
    {
      "cell_type": "code",
      "source": [
        "# Calculate the Accuracy:\n",
        "from sklearn.metrics import accuracy_score\n",
        "score = accuracy_score(y_pred,y_test)"
      ],
      "metadata": {
        "id": "72isDpGqQR5-"
      },
      "execution_count": 42,
      "outputs": []
    },
    {
      "cell_type": "code",
      "source": [
        "score"
      ],
      "metadata": {
        "colab": {
          "base_uri": "https://localhost:8080/"
        },
        "id": "GZRpBaRSQdAF",
        "outputId": "61126d00-6c96-482d-fe83-f48679b6f8b3"
      },
      "execution_count": 43,
      "outputs": [
        {
          "output_type": "execute_result",
          "data": {
            "text/plain": [
              "0.857"
            ]
          },
          "metadata": {},
          "execution_count": 43
        }
      ]
    },
    {
      "cell_type": "code",
      "source": [
        ""
      ],
      "metadata": {
        "id": "sSZ4mOT_Qiq5"
      },
      "execution_count": null,
      "outputs": []
    }
  ]
}